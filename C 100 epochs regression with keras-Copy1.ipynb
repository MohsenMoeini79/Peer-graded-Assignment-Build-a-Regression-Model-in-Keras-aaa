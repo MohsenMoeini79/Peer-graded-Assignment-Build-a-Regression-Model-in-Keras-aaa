{
 "cells": [
  {
   "cell_type": "markdown",
   "id": "73de3036-354a-4dec-b3ec-ed4d8b0fdc7d",
   "metadata": {},
   "source": [
    "# **REGRESSION MODEL WITH KERAS**"
   ]
  },
  {
   "cell_type": "markdown",
   "id": "c8dcc67a-c992-4351-803a-ec54e7b53115",
   "metadata": {},
   "source": [
    "## **Import libraries**"
   ]
  },
  {
   "cell_type": "code",
   "execution_count": 4,
   "id": "150b9ebc-1ab1-4eff-8b9f-37b9b6988f07",
   "metadata": {},
   "outputs": [],
   "source": [
    "import pandas as pd\n",
    "import numpy as np\n",
    "from tensorflow import keras\n",
    "from keras.models import Sequential\n",
    "from keras.layers import Dense\n",
    "from sklearn.model_selection import train_test_split\n",
    "from sklearn.metrics import mean_squared_error"
   ]
  },
  {
   "cell_type": "markdown",
   "id": "820808ff-061c-4fca-9427-15982c9cea17",
   "metadata": {},
   "source": [
    "## import dataset"
   ]
  },
  {
   "cell_type": "code",
   "execution_count": 5,
   "id": "059fae7b-1213-4071-bc9e-0377e5f1873e",
   "metadata": {},
   "outputs": [
    {
     "data": {
      "text/html": [
       "<div>\n",
       "<style scoped>\n",
       "    .dataframe tbody tr th:only-of-type {\n",
       "        vertical-align: middle;\n",
       "    }\n",
       "\n",
       "    .dataframe tbody tr th {\n",
       "        vertical-align: top;\n",
       "    }\n",
       "\n",
       "    .dataframe thead th {\n",
       "        text-align: right;\n",
       "    }\n",
       "</style>\n",
       "<table border=\"1\" class=\"dataframe\">\n",
       "  <thead>\n",
       "    <tr style=\"text-align: right;\">\n",
       "      <th></th>\n",
       "      <th>Cement</th>\n",
       "      <th>Blast Furnace Slag</th>\n",
       "      <th>Fly Ash</th>\n",
       "      <th>Water</th>\n",
       "      <th>Superplasticizer</th>\n",
       "      <th>Coarse Aggregate</th>\n",
       "      <th>Fine Aggregate</th>\n",
       "      <th>Age</th>\n",
       "      <th>Strength</th>\n",
       "    </tr>\n",
       "  </thead>\n",
       "  <tbody>\n",
       "    <tr>\n",
       "      <th>0</th>\n",
       "      <td>540.0</td>\n",
       "      <td>0.0</td>\n",
       "      <td>0.0</td>\n",
       "      <td>162.0</td>\n",
       "      <td>2.5</td>\n",
       "      <td>1040.0</td>\n",
       "      <td>676.0</td>\n",
       "      <td>28</td>\n",
       "      <td>79.99</td>\n",
       "    </tr>\n",
       "    <tr>\n",
       "      <th>1</th>\n",
       "      <td>540.0</td>\n",
       "      <td>0.0</td>\n",
       "      <td>0.0</td>\n",
       "      <td>162.0</td>\n",
       "      <td>2.5</td>\n",
       "      <td>1055.0</td>\n",
       "      <td>676.0</td>\n",
       "      <td>28</td>\n",
       "      <td>61.89</td>\n",
       "    </tr>\n",
       "    <tr>\n",
       "      <th>2</th>\n",
       "      <td>332.5</td>\n",
       "      <td>142.5</td>\n",
       "      <td>0.0</td>\n",
       "      <td>228.0</td>\n",
       "      <td>0.0</td>\n",
       "      <td>932.0</td>\n",
       "      <td>594.0</td>\n",
       "      <td>270</td>\n",
       "      <td>40.27</td>\n",
       "    </tr>\n",
       "    <tr>\n",
       "      <th>3</th>\n",
       "      <td>332.5</td>\n",
       "      <td>142.5</td>\n",
       "      <td>0.0</td>\n",
       "      <td>228.0</td>\n",
       "      <td>0.0</td>\n",
       "      <td>932.0</td>\n",
       "      <td>594.0</td>\n",
       "      <td>365</td>\n",
       "      <td>41.05</td>\n",
       "    </tr>\n",
       "    <tr>\n",
       "      <th>4</th>\n",
       "      <td>198.6</td>\n",
       "      <td>132.4</td>\n",
       "      <td>0.0</td>\n",
       "      <td>192.0</td>\n",
       "      <td>0.0</td>\n",
       "      <td>978.4</td>\n",
       "      <td>825.5</td>\n",
       "      <td>360</td>\n",
       "      <td>44.30</td>\n",
       "    </tr>\n",
       "  </tbody>\n",
       "</table>\n",
       "</div>"
      ],
      "text/plain": [
       "   Cement  Blast Furnace Slag  Fly Ash  Water  Superplasticizer  \\\n",
       "0   540.0                 0.0      0.0  162.0               2.5   \n",
       "1   540.0                 0.0      0.0  162.0               2.5   \n",
       "2   332.5               142.5      0.0  228.0               0.0   \n",
       "3   332.5               142.5      0.0  228.0               0.0   \n",
       "4   198.6               132.4      0.0  192.0               0.0   \n",
       "\n",
       "   Coarse Aggregate  Fine Aggregate  Age  Strength  \n",
       "0            1040.0           676.0   28     79.99  \n",
       "1            1055.0           676.0   28     61.89  \n",
       "2             932.0           594.0  270     40.27  \n",
       "3             932.0           594.0  365     41.05  \n",
       "4             978.4           825.5  360     44.30  "
      ]
     },
     "execution_count": 5,
     "metadata": {},
     "output_type": "execute_result"
    }
   ],
   "source": [
    "concrete_data = pd.read_csv('https://s3-api.us-geo.objectstorage.softlayer.net/cf-courses-data/CognitiveClass/DL0101EN/labs/data/concrete_data.csv')\n",
    "concrete_data.head()"
   ]
  },
  {
   "cell_type": "markdown",
   "id": "20325f84-bb85-4f99-b0ea-4e161f414404",
   "metadata": {},
   "source": [
    "## Let's check how many data points we have."
   ]
  },
  {
   "cell_type": "code",
   "execution_count": 6,
   "id": "60886562-096c-4efd-a421-dbe9fa3e3531",
   "metadata": {},
   "outputs": [
    {
     "data": {
      "text/plain": [
       "(1030, 9)"
      ]
     },
     "execution_count": 6,
     "metadata": {},
     "output_type": "execute_result"
    }
   ],
   "source": [
    "concrete_data.shape"
   ]
  },
  {
   "cell_type": "code",
   "execution_count": 7,
   "id": "da336a80-f338-49c7-ac7e-69682b30a6d0",
   "metadata": {},
   "outputs": [
    {
     "data": {
      "text/html": [
       "<div>\n",
       "<style scoped>\n",
       "    .dataframe tbody tr th:only-of-type {\n",
       "        vertical-align: middle;\n",
       "    }\n",
       "\n",
       "    .dataframe tbody tr th {\n",
       "        vertical-align: top;\n",
       "    }\n",
       "\n",
       "    .dataframe thead th {\n",
       "        text-align: right;\n",
       "    }\n",
       "</style>\n",
       "<table border=\"1\" class=\"dataframe\">\n",
       "  <thead>\n",
       "    <tr style=\"text-align: right;\">\n",
       "      <th></th>\n",
       "      <th>Cement</th>\n",
       "      <th>Blast Furnace Slag</th>\n",
       "      <th>Fly Ash</th>\n",
       "      <th>Water</th>\n",
       "      <th>Superplasticizer</th>\n",
       "      <th>Coarse Aggregate</th>\n",
       "      <th>Fine Aggregate</th>\n",
       "      <th>Age</th>\n",
       "      <th>Strength</th>\n",
       "    </tr>\n",
       "  </thead>\n",
       "  <tbody>\n",
       "    <tr>\n",
       "      <th>count</th>\n",
       "      <td>1030.000000</td>\n",
       "      <td>1030.000000</td>\n",
       "      <td>1030.000000</td>\n",
       "      <td>1030.000000</td>\n",
       "      <td>1030.000000</td>\n",
       "      <td>1030.000000</td>\n",
       "      <td>1030.000000</td>\n",
       "      <td>1030.000000</td>\n",
       "      <td>1030.000000</td>\n",
       "    </tr>\n",
       "    <tr>\n",
       "      <th>mean</th>\n",
       "      <td>281.167864</td>\n",
       "      <td>73.895825</td>\n",
       "      <td>54.188350</td>\n",
       "      <td>181.567282</td>\n",
       "      <td>6.204660</td>\n",
       "      <td>972.918932</td>\n",
       "      <td>773.580485</td>\n",
       "      <td>45.662136</td>\n",
       "      <td>35.817961</td>\n",
       "    </tr>\n",
       "    <tr>\n",
       "      <th>std</th>\n",
       "      <td>104.506364</td>\n",
       "      <td>86.279342</td>\n",
       "      <td>63.997004</td>\n",
       "      <td>21.354219</td>\n",
       "      <td>5.973841</td>\n",
       "      <td>77.753954</td>\n",
       "      <td>80.175980</td>\n",
       "      <td>63.169912</td>\n",
       "      <td>16.705742</td>\n",
       "    </tr>\n",
       "    <tr>\n",
       "      <th>min</th>\n",
       "      <td>102.000000</td>\n",
       "      <td>0.000000</td>\n",
       "      <td>0.000000</td>\n",
       "      <td>121.800000</td>\n",
       "      <td>0.000000</td>\n",
       "      <td>801.000000</td>\n",
       "      <td>594.000000</td>\n",
       "      <td>1.000000</td>\n",
       "      <td>2.330000</td>\n",
       "    </tr>\n",
       "    <tr>\n",
       "      <th>25%</th>\n",
       "      <td>192.375000</td>\n",
       "      <td>0.000000</td>\n",
       "      <td>0.000000</td>\n",
       "      <td>164.900000</td>\n",
       "      <td>0.000000</td>\n",
       "      <td>932.000000</td>\n",
       "      <td>730.950000</td>\n",
       "      <td>7.000000</td>\n",
       "      <td>23.710000</td>\n",
       "    </tr>\n",
       "    <tr>\n",
       "      <th>50%</th>\n",
       "      <td>272.900000</td>\n",
       "      <td>22.000000</td>\n",
       "      <td>0.000000</td>\n",
       "      <td>185.000000</td>\n",
       "      <td>6.400000</td>\n",
       "      <td>968.000000</td>\n",
       "      <td>779.500000</td>\n",
       "      <td>28.000000</td>\n",
       "      <td>34.445000</td>\n",
       "    </tr>\n",
       "    <tr>\n",
       "      <th>75%</th>\n",
       "      <td>350.000000</td>\n",
       "      <td>142.950000</td>\n",
       "      <td>118.300000</td>\n",
       "      <td>192.000000</td>\n",
       "      <td>10.200000</td>\n",
       "      <td>1029.400000</td>\n",
       "      <td>824.000000</td>\n",
       "      <td>56.000000</td>\n",
       "      <td>46.135000</td>\n",
       "    </tr>\n",
       "    <tr>\n",
       "      <th>max</th>\n",
       "      <td>540.000000</td>\n",
       "      <td>359.400000</td>\n",
       "      <td>200.100000</td>\n",
       "      <td>247.000000</td>\n",
       "      <td>32.200000</td>\n",
       "      <td>1145.000000</td>\n",
       "      <td>992.600000</td>\n",
       "      <td>365.000000</td>\n",
       "      <td>82.600000</td>\n",
       "    </tr>\n",
       "  </tbody>\n",
       "</table>\n",
       "</div>"
      ],
      "text/plain": [
       "            Cement  Blast Furnace Slag      Fly Ash        Water  \\\n",
       "count  1030.000000         1030.000000  1030.000000  1030.000000   \n",
       "mean    281.167864           73.895825    54.188350   181.567282   \n",
       "std     104.506364           86.279342    63.997004    21.354219   \n",
       "min     102.000000            0.000000     0.000000   121.800000   \n",
       "25%     192.375000            0.000000     0.000000   164.900000   \n",
       "50%     272.900000           22.000000     0.000000   185.000000   \n",
       "75%     350.000000          142.950000   118.300000   192.000000   \n",
       "max     540.000000          359.400000   200.100000   247.000000   \n",
       "\n",
       "       Superplasticizer  Coarse Aggregate  Fine Aggregate          Age  \\\n",
       "count       1030.000000       1030.000000     1030.000000  1030.000000   \n",
       "mean           6.204660        972.918932      773.580485    45.662136   \n",
       "std            5.973841         77.753954       80.175980    63.169912   \n",
       "min            0.000000        801.000000      594.000000     1.000000   \n",
       "25%            0.000000        932.000000      730.950000     7.000000   \n",
       "50%            6.400000        968.000000      779.500000    28.000000   \n",
       "75%           10.200000       1029.400000      824.000000    56.000000   \n",
       "max           32.200000       1145.000000      992.600000   365.000000   \n",
       "\n",
       "          Strength  \n",
       "count  1030.000000  \n",
       "mean     35.817961  \n",
       "std      16.705742  \n",
       "min       2.330000  \n",
       "25%      23.710000  \n",
       "50%      34.445000  \n",
       "75%      46.135000  \n",
       "max      82.600000  "
      ]
     },
     "execution_count": 7,
     "metadata": {},
     "output_type": "execute_result"
    }
   ],
   "source": [
    "concrete_data.describe()"
   ]
  },
  {
   "cell_type": "markdown",
   "id": "cc9ce35b-635d-43ab-b7ea-146bac82c752",
   "metadata": {},
   "source": [
    "## check for null values"
   ]
  },
  {
   "cell_type": "code",
   "execution_count": 8,
   "id": "019a87be-0761-435a-abbc-efa9dbdc90da",
   "metadata": {},
   "outputs": [
    {
     "data": {
      "text/plain": [
       "Cement                0\n",
       "Blast Furnace Slag    0\n",
       "Fly Ash               0\n",
       "Water                 0\n",
       "Superplasticizer      0\n",
       "Coarse Aggregate      0\n",
       "Fine Aggregate        0\n",
       "Age                   0\n",
       "Strength              0\n",
       "dtype: int64"
      ]
     },
     "execution_count": 8,
     "metadata": {},
     "output_type": "execute_result"
    }
   ],
   "source": [
    "concrete_data.isnull().sum()"
   ]
  },
  {
   "cell_type": "markdown",
   "id": "7721b934-5d77-48f2-abe8-48b83da2a289",
   "metadata": {},
   "source": [
    "## Split data into predictors and target"
   ]
  },
  {
   "cell_type": "code",
   "execution_count": 9,
   "id": "72d8f073-c32e-4fdb-957b-c72e8c8320a2",
   "metadata": {},
   "outputs": [],
   "source": [
    "predictors = concrete_data.drop('Strength', axis=1)\n",
    "target = concrete_data['Strength']"
   ]
  },
  {
   "cell_type": "code",
   "execution_count": 10,
   "id": "bcae5ebc-344b-42d6-afed-ec7c5c02aeee",
   "metadata": {},
   "outputs": [
    {
     "data": {
      "text/html": [
       "<div>\n",
       "<style scoped>\n",
       "    .dataframe tbody tr th:only-of-type {\n",
       "        vertical-align: middle;\n",
       "    }\n",
       "\n",
       "    .dataframe tbody tr th {\n",
       "        vertical-align: top;\n",
       "    }\n",
       "\n",
       "    .dataframe thead th {\n",
       "        text-align: right;\n",
       "    }\n",
       "</style>\n",
       "<table border=\"1\" class=\"dataframe\">\n",
       "  <thead>\n",
       "    <tr style=\"text-align: right;\">\n",
       "      <th></th>\n",
       "      <th>Cement</th>\n",
       "      <th>Blast Furnace Slag</th>\n",
       "      <th>Fly Ash</th>\n",
       "      <th>Water</th>\n",
       "      <th>Superplasticizer</th>\n",
       "      <th>Coarse Aggregate</th>\n",
       "      <th>Fine Aggregate</th>\n",
       "      <th>Age</th>\n",
       "    </tr>\n",
       "  </thead>\n",
       "  <tbody>\n",
       "    <tr>\n",
       "      <th>0</th>\n",
       "      <td>540.0</td>\n",
       "      <td>0.0</td>\n",
       "      <td>0.0</td>\n",
       "      <td>162.0</td>\n",
       "      <td>2.5</td>\n",
       "      <td>1040.0</td>\n",
       "      <td>676.0</td>\n",
       "      <td>28</td>\n",
       "    </tr>\n",
       "    <tr>\n",
       "      <th>1</th>\n",
       "      <td>540.0</td>\n",
       "      <td>0.0</td>\n",
       "      <td>0.0</td>\n",
       "      <td>162.0</td>\n",
       "      <td>2.5</td>\n",
       "      <td>1055.0</td>\n",
       "      <td>676.0</td>\n",
       "      <td>28</td>\n",
       "    </tr>\n",
       "    <tr>\n",
       "      <th>2</th>\n",
       "      <td>332.5</td>\n",
       "      <td>142.5</td>\n",
       "      <td>0.0</td>\n",
       "      <td>228.0</td>\n",
       "      <td>0.0</td>\n",
       "      <td>932.0</td>\n",
       "      <td>594.0</td>\n",
       "      <td>270</td>\n",
       "    </tr>\n",
       "    <tr>\n",
       "      <th>3</th>\n",
       "      <td>332.5</td>\n",
       "      <td>142.5</td>\n",
       "      <td>0.0</td>\n",
       "      <td>228.0</td>\n",
       "      <td>0.0</td>\n",
       "      <td>932.0</td>\n",
       "      <td>594.0</td>\n",
       "      <td>365</td>\n",
       "    </tr>\n",
       "    <tr>\n",
       "      <th>4</th>\n",
       "      <td>198.6</td>\n",
       "      <td>132.4</td>\n",
       "      <td>0.0</td>\n",
       "      <td>192.0</td>\n",
       "      <td>0.0</td>\n",
       "      <td>978.4</td>\n",
       "      <td>825.5</td>\n",
       "      <td>360</td>\n",
       "    </tr>\n",
       "  </tbody>\n",
       "</table>\n",
       "</div>"
      ],
      "text/plain": [
       "   Cement  Blast Furnace Slag  Fly Ash  Water  Superplasticizer  \\\n",
       "0   540.0                 0.0      0.0  162.0               2.5   \n",
       "1   540.0                 0.0      0.0  162.0               2.5   \n",
       "2   332.5               142.5      0.0  228.0               0.0   \n",
       "3   332.5               142.5      0.0  228.0               0.0   \n",
       "4   198.6               132.4      0.0  192.0               0.0   \n",
       "\n",
       "   Coarse Aggregate  Fine Aggregate  Age  \n",
       "0            1040.0           676.0   28  \n",
       "1            1055.0           676.0   28  \n",
       "2             932.0           594.0  270  \n",
       "3             932.0           594.0  365  \n",
       "4             978.4           825.5  360  "
      ]
     },
     "execution_count": 10,
     "metadata": {},
     "output_type": "execute_result"
    }
   ],
   "source": [
    "predictors.head()"
   ]
  },
  {
   "cell_type": "code",
   "execution_count": 11,
   "id": "3198087d-3e66-4991-8931-2369f4557139",
   "metadata": {},
   "outputs": [
    {
     "data": {
      "text/plain": [
       "0    79.99\n",
       "1    61.89\n",
       "2    40.27\n",
       "3    41.05\n",
       "4    44.30\n",
       "Name: Strength, dtype: float64"
      ]
     },
     "execution_count": 11,
     "metadata": {},
     "output_type": "execute_result"
    }
   ],
   "source": [
    "target.head()"
   ]
  },
  {
   "cell_type": "markdown",
   "id": "62164c53-c29e-4c87-b146-6c57db7a0dfc",
   "metadata": {},
   "source": [
    "## Normalize the predictors"
   ]
  },
  {
   "cell_type": "code",
   "execution_count": 12,
   "id": "ffd4d00c-f6b1-412a-ab67-551e54a0af83",
   "metadata": {},
   "outputs": [],
   "source": [
    "predictors_norm = (predictors - predictors.mean()) / predictors.std()"
   ]
  },
  {
   "cell_type": "markdown",
   "id": "e12ee29e-ef3e-4b24-9f1e-b3293b16fe95",
   "metadata": {},
   "source": [
    "## split data into training and test sets"
   ]
  },
  {
   "cell_type": "code",
   "execution_count": 13,
   "id": "a68b33e1-d355-4a9a-a6ec-b187bad8ad27",
   "metadata": {},
   "outputs": [],
   "source": [
    "X_train, X_test, y_train, y_test = train_test_split(predictors, target, test_size=0.3)"
   ]
  },
  {
   "cell_type": "markdown",
   "id": "b3ea7d65-a747-4627-8d73-150778f9f799",
   "metadata": {},
   "source": [
    "## build a baseline model"
   ]
  },
  {
   "cell_type": "code",
   "execution_count": 14,
   "id": "10c250dd-49c5-4ddd-b5f1-ddbba9c9c647",
   "metadata": {},
   "outputs": [],
   "source": [
    "model = Sequential()\n",
    "model.add(Dense(10, activation='relu', input_shape=(X_train.shape[1],)))\n",
    "model.add(Dense(1))\n",
    "model.compile(optimizer='adam', loss='mean_squared_error')"
   ]
  },
  {
   "cell_type": "markdown",
   "id": "8d46c295-02f1-4b0e-9ddd-7e821adef216",
   "metadata": {},
   "source": [
    "## train the model"
   ]
  },
  {
   "cell_type": "code",
   "execution_count": 15,
   "id": "efbe6617-fb27-46ae-9d44-a95fa21d787e",
   "metadata": {},
   "outputs": [
    {
     "name": "stdout",
     "output_type": "stream",
     "text": [
      "Epoch 1/100\n",
      "23/23 - 1s - loss: 1150.2484 - 804ms/epoch - 35ms/step\n",
      "Epoch 2/100\n",
      "23/23 - 0s - loss: 709.6888 - 59ms/epoch - 3ms/step\n",
      "Epoch 3/100\n",
      "23/23 - 0s - loss: 564.2711 - 35ms/epoch - 2ms/step\n",
      "Epoch 4/100\n",
      "23/23 - 0s - loss: 472.2231 - 42ms/epoch - 2ms/step\n",
      "Epoch 5/100\n",
      "23/23 - 0s - loss: 406.4664 - 38ms/epoch - 2ms/step\n",
      "Epoch 6/100\n",
      "23/23 - 0s - loss: 359.7838 - 37ms/epoch - 2ms/step\n",
      "Epoch 7/100\n",
      "23/23 - 0s - loss: 328.3288 - 27ms/epoch - 1ms/step\n",
      "Epoch 8/100\n",
      "23/23 - 0s - loss: 307.0939 - 51ms/epoch - 2ms/step\n",
      "Epoch 9/100\n",
      "23/23 - 0s - loss: 291.8222 - 31ms/epoch - 1ms/step\n",
      "Epoch 10/100\n",
      "23/23 - 0s - loss: 279.8592 - 38ms/epoch - 2ms/step\n",
      "Epoch 11/100\n",
      "23/23 - 0s - loss: 269.9884 - 26ms/epoch - 1ms/step\n",
      "Epoch 12/100\n",
      "23/23 - 0s - loss: 262.8541 - 43ms/epoch - 2ms/step\n",
      "Epoch 13/100\n",
      "23/23 - 0s - loss: 255.2953 - 40ms/epoch - 2ms/step\n",
      "Epoch 14/100\n",
      "23/23 - 0s - loss: 248.5740 - 31ms/epoch - 1ms/step\n",
      "Epoch 15/100\n",
      "23/23 - 0s - loss: 243.2303 - 39ms/epoch - 2ms/step\n",
      "Epoch 16/100\n",
      "23/23 - 0s - loss: 237.8816 - 44ms/epoch - 2ms/step\n",
      "Epoch 17/100\n",
      "23/23 - 0s - loss: 232.8306 - 30ms/epoch - 1ms/step\n",
      "Epoch 18/100\n",
      "23/23 - 0s - loss: 229.1888 - 36ms/epoch - 2ms/step\n",
      "Epoch 19/100\n",
      "23/23 - 0s - loss: 225.8786 - 28ms/epoch - 1ms/step\n",
      "Epoch 20/100\n",
      "23/23 - 0s - loss: 220.5403 - 41ms/epoch - 2ms/step\n",
      "Epoch 21/100\n",
      "23/23 - 0s - loss: 216.6310 - 39ms/epoch - 2ms/step\n",
      "Epoch 22/100\n",
      "23/23 - 0s - loss: 213.4923 - 36ms/epoch - 2ms/step\n",
      "Epoch 23/100\n",
      "23/23 - 0s - loss: 210.5618 - 28ms/epoch - 1ms/step\n",
      "Epoch 24/100\n",
      "23/23 - 0s - loss: 207.4854 - 39ms/epoch - 2ms/step\n",
      "Epoch 25/100\n",
      "23/23 - 0s - loss: 206.1051 - 27ms/epoch - 1ms/step\n",
      "Epoch 26/100\n",
      "23/23 - 0s - loss: 202.6411 - 42ms/epoch - 2ms/step\n",
      "Epoch 27/100\n",
      "23/23 - 0s - loss: 198.7517 - 41ms/epoch - 2ms/step\n",
      "Epoch 28/100\n",
      "23/23 - 0s - loss: 196.2940 - 30ms/epoch - 1ms/step\n",
      "Epoch 29/100\n",
      "23/23 - 0s - loss: 193.7599 - 37ms/epoch - 2ms/step\n",
      "Epoch 30/100\n",
      "23/23 - 0s - loss: 190.6899 - 27ms/epoch - 1ms/step\n",
      "Epoch 31/100\n",
      "23/23 - 0s - loss: 189.3033 - 33ms/epoch - 1ms/step\n",
      "Epoch 32/100\n",
      "23/23 - 0s - loss: 186.7040 - 44ms/epoch - 2ms/step\n",
      "Epoch 33/100\n",
      "23/23 - 0s - loss: 180.5627 - 42ms/epoch - 2ms/step\n",
      "Epoch 34/100\n",
      "23/23 - 0s - loss: 177.9107 - 29ms/epoch - 1ms/step\n",
      "Epoch 35/100\n",
      "23/23 - 0s - loss: 173.1683 - 39ms/epoch - 2ms/step\n",
      "Epoch 36/100\n",
      "23/23 - 0s - loss: 170.0663 - 29ms/epoch - 1ms/step\n",
      "Epoch 37/100\n",
      "23/23 - 0s - loss: 167.0046 - 47ms/epoch - 2ms/step\n",
      "Epoch 38/100\n",
      "23/23 - 0s - loss: 163.9755 - 31ms/epoch - 1ms/step\n",
      "Epoch 39/100\n",
      "23/23 - 0s - loss: 160.0951 - 38ms/epoch - 2ms/step\n",
      "Epoch 40/100\n",
      "23/23 - 0s - loss: 155.8029 - 28ms/epoch - 1ms/step\n",
      "Epoch 41/100\n",
      "23/23 - 0s - loss: 152.3013 - 41ms/epoch - 2ms/step\n",
      "Epoch 42/100\n",
      "23/23 - 0s - loss: 145.7139 - 29ms/epoch - 1ms/step\n",
      "Epoch 43/100\n",
      "23/23 - 0s - loss: 137.4790 - 46ms/epoch - 2ms/step\n",
      "Epoch 44/100\n",
      "23/23 - 0s - loss: 131.1968 - 30ms/epoch - 1ms/step\n",
      "Epoch 45/100\n",
      "23/23 - 0s - loss: 126.8790 - 40ms/epoch - 2ms/step\n",
      "Epoch 46/100\n",
      "23/23 - 0s - loss: 125.2866 - 27ms/epoch - 1ms/step\n",
      "Epoch 47/100\n",
      "23/23 - 0s - loss: 121.2463 - 42ms/epoch - 2ms/step\n",
      "Epoch 48/100\n",
      "23/23 - 0s - loss: 119.6526 - 41ms/epoch - 2ms/step\n",
      "Epoch 49/100\n",
      "23/23 - 0s - loss: 118.0805 - 29ms/epoch - 1ms/step\n",
      "Epoch 50/100\n",
      "23/23 - 0s - loss: 116.0661 - 38ms/epoch - 2ms/step\n",
      "Epoch 51/100\n",
      "23/23 - 0s - loss: 114.3096 - 62ms/epoch - 3ms/step\n",
      "Epoch 52/100\n",
      "23/23 - 0s - loss: 110.9851 - 53ms/epoch - 2ms/step\n",
      "Epoch 53/100\n",
      "23/23 - 0s - loss: 109.1932 - 35ms/epoch - 2ms/step\n",
      "Epoch 54/100\n",
      "23/23 - 0s - loss: 109.2585 - 38ms/epoch - 2ms/step\n",
      "Epoch 55/100\n",
      "23/23 - 0s - loss: 107.1595 - 36ms/epoch - 2ms/step\n",
      "Epoch 56/100\n",
      "23/23 - 0s - loss: 105.0141 - 30ms/epoch - 1ms/step\n",
      "Epoch 57/100\n",
      "23/23 - 0s - loss: 104.2966 - 31ms/epoch - 1ms/step\n",
      "Epoch 58/100\n",
      "23/23 - 0s - loss: 103.3416 - 43ms/epoch - 2ms/step\n",
      "Epoch 59/100\n",
      "23/23 - 0s - loss: 102.5798 - 38ms/epoch - 2ms/step\n",
      "Epoch 60/100\n",
      "23/23 - 0s - loss: 101.8868 - 31ms/epoch - 1ms/step\n",
      "Epoch 61/100\n",
      "23/23 - 0s - loss: 100.1762 - 37ms/epoch - 2ms/step\n",
      "Epoch 62/100\n",
      "23/23 - 0s - loss: 102.3735 - 31ms/epoch - 1ms/step\n",
      "Epoch 63/100\n",
      "23/23 - 0s - loss: 99.3715 - 38ms/epoch - 2ms/step\n",
      "Epoch 64/100\n",
      "23/23 - 0s - loss: 98.2240 - 28ms/epoch - 1ms/step\n",
      "Epoch 65/100\n",
      "23/23 - 0s - loss: 97.8078 - 40ms/epoch - 2ms/step\n",
      "Epoch 66/100\n",
      "23/23 - 0s - loss: 97.2551 - 37ms/epoch - 2ms/step\n",
      "Epoch 67/100\n",
      "23/23 - 0s - loss: 96.6584 - 31ms/epoch - 1ms/step\n",
      "Epoch 68/100\n",
      "23/23 - 0s - loss: 98.4531 - 40ms/epoch - 2ms/step\n",
      "Epoch 69/100\n",
      "23/23 - 0s - loss: 96.6377 - 33ms/epoch - 1ms/step\n",
      "Epoch 70/100\n",
      "23/23 - 0s - loss: 94.2197 - 36ms/epoch - 2ms/step\n",
      "Epoch 71/100\n",
      "23/23 - 0s - loss: 94.3010 - 31ms/epoch - 1ms/step\n",
      "Epoch 72/100\n",
      "23/23 - 0s - loss: 92.8006 - 40ms/epoch - 2ms/step\n",
      "Epoch 73/100\n",
      "23/23 - 0s - loss: 93.5281 - 32ms/epoch - 1ms/step\n",
      "Epoch 74/100\n",
      "23/23 - 0s - loss: 92.4249 - 43ms/epoch - 2ms/step\n",
      "Epoch 75/100\n",
      "23/23 - 0s - loss: 90.4283 - 30ms/epoch - 1ms/step\n",
      "Epoch 76/100\n",
      "23/23 - 0s - loss: 90.4683 - 42ms/epoch - 2ms/step\n",
      "Epoch 77/100\n",
      "23/23 - 0s - loss: 89.2555 - 31ms/epoch - 1ms/step\n",
      "Epoch 78/100\n",
      "23/23 - 0s - loss: 89.4923 - 44ms/epoch - 2ms/step\n",
      "Epoch 79/100\n",
      "23/23 - 0s - loss: 90.9049 - 32ms/epoch - 1ms/step\n",
      "Epoch 80/100\n",
      "23/23 - 0s - loss: 87.5950 - 38ms/epoch - 2ms/step\n",
      "Epoch 81/100\n",
      "23/23 - 0s - loss: 86.3685 - 31ms/epoch - 1ms/step\n",
      "Epoch 82/100\n",
      "23/23 - 0s - loss: 87.1210 - 40ms/epoch - 2ms/step\n",
      "Epoch 83/100\n",
      "23/23 - 0s - loss: 85.5629 - 34ms/epoch - 1ms/step\n",
      "Epoch 84/100\n",
      "23/23 - 0s - loss: 85.7503 - 31ms/epoch - 1ms/step\n",
      "Epoch 85/100\n",
      "23/23 - 0s - loss: 85.4437 - 33ms/epoch - 1ms/step\n",
      "Epoch 86/100\n",
      "23/23 - 0s - loss: 84.2530 - 47ms/epoch - 2ms/step\n",
      "Epoch 87/100\n",
      "23/23 - 0s - loss: 84.1979 - 32ms/epoch - 1ms/step\n",
      "Epoch 88/100\n",
      "23/23 - 0s - loss: 83.5618 - 38ms/epoch - 2ms/step\n",
      "Epoch 89/100\n",
      "23/23 - 0s - loss: 83.8063 - 31ms/epoch - 1ms/step\n",
      "Epoch 90/100\n",
      "23/23 - 0s - loss: 83.0477 - 44ms/epoch - 2ms/step\n",
      "Epoch 91/100\n",
      "23/23 - 0s - loss: 82.4773 - 33ms/epoch - 1ms/step\n",
      "Epoch 92/100\n",
      "23/23 - 0s - loss: 83.3620 - 40ms/epoch - 2ms/step\n",
      "Epoch 93/100\n",
      "23/23 - 0s - loss: 82.8130 - 33ms/epoch - 1ms/step\n",
      "Epoch 94/100\n",
      "23/23 - 0s - loss: 81.9310 - 43ms/epoch - 2ms/step\n",
      "Epoch 95/100\n",
      "23/23 - 0s - loss: 82.1472 - 33ms/epoch - 1ms/step\n",
      "Epoch 96/100\n",
      "23/23 - 0s - loss: 81.4201 - 37ms/epoch - 2ms/step\n",
      "Epoch 97/100\n",
      "23/23 - 0s - loss: 82.1219 - 31ms/epoch - 1ms/step\n",
      "Epoch 98/100\n",
      "23/23 - 0s - loss: 81.8658 - 44ms/epoch - 2ms/step\n",
      "Epoch 99/100\n",
      "23/23 - 0s - loss: 81.4522 - 31ms/epoch - 1ms/step\n",
      "Epoch 100/100\n",
      "23/23 - 0s - loss: 79.8870 - 37ms/epoch - 2ms/step\n"
     ]
    }
   ],
   "source": [
    "history = model.fit(X_train, y_train, epochs=100, verbose=2)"
   ]
  },
  {
   "cell_type": "markdown",
   "id": "a3f07adc-5776-4102-afda-0c12a49aade1",
   "metadata": {},
   "source": [
    "## Evaluate the model on the test set and compute the MSE"
   ]
  },
  {
   "cell_type": "code",
   "execution_count": 16,
   "id": "2bb7f6fa-1491-4163-991f-2b1701c4e271",
   "metadata": {},
   "outputs": [
    {
     "name": "stdout",
     "output_type": "stream",
     "text": [
      "10/10 [==============================] - 0s 1ms/step\n",
      "Mean Squared Error (100 Epochs): 87.38888351365148\n"
     ]
    }
   ],
   "source": [
    "y_pred = model.predict(X_test)\n",
    "mse = mean_squared_error(y_test, y_pred)\n",
    "\n",
    "print(\"Mean Squared Error (100 Epochs):\", mse)"
   ]
  },
  {
   "cell_type": "markdown",
   "id": "dd2ba821-7e48-4912-a53e-d2e40c14afc2",
   "metadata": {},
   "source": [
    "## Function to repeat steps 2 and 3, 50 times"
   ]
  },
  {
   "cell_type": "code",
   "execution_count": 17,
   "id": "a831ce5b-2a10-4c26-9e93-80c8cb55a003",
   "metadata": {},
   "outputs": [],
   "source": [
    "def repeat_train_evaluate(model, X_train, y_train, X_test, y_test):\n",
    "    mse_list = []\n",
    "    for _ in range(50):\n",
    "        model.fit(X_train, y_train, epochs=50, verbose=0)\n",
    "        y_pred = model.predict(X_test)\n",
    "        mse = mean_squared_error(y_test, y_pred)\n",
    "        mse_list.append(mse)\n",
    "    return mse_list"
   ]
  },
  {
   "cell_type": "markdown",
   "id": "42c0aaaa-90a9-4186-afec-b161fff294ac",
   "metadata": {},
   "source": [
    "## Repeat steps 2 and 3, 50 times"
   ]
  },
  {
   "cell_type": "code",
   "execution_count": 18,
   "id": "740d93ae-428a-4580-80ae-1127a98921bb",
   "metadata": {},
   "outputs": [
    {
     "name": "stdout",
     "output_type": "stream",
     "text": [
      "10/10 [==============================] - 0s 0s/step\n",
      "10/10 [==============================] - 0s 3ms/step\n",
      "10/10 [==============================] - 0s 3ms/step\n",
      "10/10 [==============================] - 0s 2ms/step\n",
      "10/10 [==============================] - 0s 2ms/step\n",
      "10/10 [==============================] - 0s 2ms/step\n",
      "10/10 [==============================] - 0s 3ms/step\n",
      "10/10 [==============================] - 0s 2ms/step\n",
      "10/10 [==============================] - 0s 2ms/step\n",
      "10/10 [==============================] - 0s 3ms/step\n",
      "10/10 [==============================] - 0s 3ms/step\n",
      "10/10 [==============================] - 0s 3ms/step\n",
      "10/10 [==============================] - 0s 2ms/step\n",
      "10/10 [==============================] - 0s 2ms/step\n",
      "10/10 [==============================] - 0s 3ms/step\n",
      "10/10 [==============================] - 0s 3ms/step\n",
      "10/10 [==============================] - 0s 3ms/step\n",
      "10/10 [==============================] - 0s 2ms/step\n",
      "10/10 [==============================] - 0s 2ms/step\n",
      "10/10 [==============================] - 0s 2ms/step\n",
      "10/10 [==============================] - 0s 3ms/step\n",
      "10/10 [==============================] - 0s 2ms/step\n",
      "10/10 [==============================] - 0s 2ms/step\n",
      "10/10 [==============================] - 0s 3ms/step\n",
      "10/10 [==============================] - 0s 3ms/step\n",
      "10/10 [==============================] - 0s 2ms/step\n",
      "10/10 [==============================] - 0s 3ms/step\n",
      "10/10 [==============================] - 0s 3ms/step\n",
      "10/10 [==============================] - 0s 3ms/step\n",
      "10/10 [==============================] - 0s 3ms/step\n",
      "10/10 [==============================] - 0s 3ms/step\n",
      "10/10 [==============================] - 0s 0s/step\n",
      "10/10 [==============================] - 0s 3ms/step\n",
      "10/10 [==============================] - 0s 2ms/step\n",
      "10/10 [==============================] - 0s 3ms/step\n",
      "10/10 [==============================] - 0s 2ms/step\n",
      "10/10 [==============================] - 0s 3ms/step\n",
      "10/10 [==============================] - 0s 2ms/step\n",
      "10/10 [==============================] - 0s 3ms/step\n",
      "10/10 [==============================] - 0s 2ms/step\n",
      "10/10 [==============================] - 0s 3ms/step\n",
      "10/10 [==============================] - 0s 2ms/step\n",
      "10/10 [==============================] - 0s 1ms/step\n",
      "10/10 [==============================] - 0s 2ms/step\n",
      "10/10 [==============================] - 0s 3ms/step\n",
      "10/10 [==============================] - 0s 3ms/step\n",
      "10/10 [==============================] - 0s 2ms/step\n",
      "10/10 [==============================] - 0s 2ms/step\n",
      "10/10 [==============================] - 0s 2ms/step\n",
      "10/10 [==============================] - 0s 2ms/step\n"
     ]
    }
   ],
   "source": [
    "mse_list = repeat_train_evaluate(model, X_train, y_train, X_test, y_test)"
   ]
  },
  {
   "cell_type": "markdown",
   "id": "b42d44cc-988a-4340-b772-f76b2545a77a",
   "metadata": {},
   "source": [
    "##  Report the mean and standard deviation of the MSEs"
   ]
  },
  {
   "cell_type": "code",
   "execution_count": 36,
   "id": "50966cf9-f470-486c-ba8a-0e748e56bfcd",
   "metadata": {},
   "outputs": [
    {
     "name": "stdout",
     "output_type": "stream",
     "text": [
      "Mean of MSEs: 51.50444734025811\n",
      "Standard deviation of MSEs: 3.443574314544005\n"
     ]
    }
   ],
   "source": [
    "mean_mse = np.mean(mse_list)\n",
    "std_mse = np.std(mse_list)\n",
    "print(\"Mean of MSEs:\", mean_mse)\n",
    "print(\"Standard deviation of MSEs:\", std_mse)"
   ]
  },
  {
   "cell_type": "code",
   "execution_count": null,
   "id": "8a59b345-d1ed-4806-ab22-751506c2c263",
   "metadata": {},
   "outputs": [],
   "source": []
  }
 ],
 "metadata": {
  "kernelspec": {
   "display_name": "Python 3 (ipykernel)",
   "language": "python",
   "name": "python3"
  },
  "language_info": {
   "codemirror_mode": {
    "name": "ipython",
    "version": 3
   },
   "file_extension": ".py",
   "mimetype": "text/x-python",
   "name": "python",
   "nbconvert_exporter": "python",
   "pygments_lexer": "ipython3",
   "version": "3.10.9"
  }
 },
 "nbformat": 4,
 "nbformat_minor": 5
}
